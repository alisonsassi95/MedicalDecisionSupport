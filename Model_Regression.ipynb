{
 "cells": [
  {
   "cell_type": "code",
   "execution_count": 1,
   "id": "17a74f6a",
   "metadata": {},
   "outputs": [],
   "source": [
    "import pandas as pd\n",
    "import numpy as np"
   ]
  },
  {
   "cell_type": "code",
   "execution_count": 2,
   "id": "7d4832f3",
   "metadata": {},
   "outputs": [],
   "source": [
    "from sklearn.model_selection import train_test_split\n",
    "from sklearn.tree import plot_tree"
   ]
  },
  {
   "cell_type": "code",
   "execution_count": 3,
   "id": "c247b643",
   "metadata": {},
   "outputs": [],
   "source": [
    "# read Data\n",
    "df = pd.read_csv('data_Calculate.csv')"
   ]
  },
  {
   "cell_type": "code",
   "execution_count": 4,
   "id": "c84a0bea",
   "metadata": {},
   "outputs": [
    {
     "data": {
      "text/html": [
       "<div>\n",
       "<style scoped>\n",
       "    .dataframe tbody tr th:only-of-type {\n",
       "        vertical-align: middle;\n",
       "    }\n",
       "\n",
       "    .dataframe tbody tr th {\n",
       "        vertical-align: top;\n",
       "    }\n",
       "\n",
       "    .dataframe thead th {\n",
       "        text-align: right;\n",
       "    }\n",
       "</style>\n",
       "<table border=\"1\" class=\"dataframe\">\n",
       "  <thead>\n",
       "    <tr style=\"text-align: right;\">\n",
       "      <th></th>\n",
       "      <th>PATIENT</th>\n",
       "      <th>AGE</th>\n",
       "      <th>NEUROLOGICAL</th>\n",
       "      <th>CARDIOVASCULAR</th>\n",
       "      <th>RESPIRATORY</th>\n",
       "      <th>COAGULATION</th>\n",
       "      <th>HEPATIC</th>\n",
       "      <th>RENAL</th>\n",
       "      <th>ICC</th>\n",
       "      <th>ECOG</th>\n",
       "      <th>SCORE_MINOR_TOTAL</th>\n",
       "      <th>SCORE_FRAGILITY</th>\n",
       "      <th>SCORE_SOFA</th>\n",
       "      <th>CLASSIFICATION</th>\n",
       "    </tr>\n",
       "  </thead>\n",
       "  <tbody>\n",
       "    <tr>\n",
       "      <th>0</th>\n",
<<<<<<< HEAD
       "      <td>Michael Roberts</td>\n",
       "      <td>74</td>\n",
       "      <td>0</td>\n",
       "      <td>1</td>\n",
       "      <td>0</td>\n",
       "      <td>0</td>\n",
       "      <td>0</td>\n",
       "      <td>0</td>\n",
       "      <td>2</td>\n",
       "      <td>0</td>\n",
=======
       "      <td>Cynthia Estrada</td>\n",
       "      <td>79</td>\n",
       "      <td>4</td>\n",
       "      <td>0</td>\n",
       "      <td>0</td>\n",
       "      <td>4</td>\n",
>>>>>>> 10a2c39d69d0646207c46952f77bfd263f5a28ed
       "      <td>4</td>\n",
       "      <td>0</td>\n",
       "      <td>1</td>\n",
<<<<<<< HEAD
=======
       "      <td>2</td>\n",
       "      <td>1</td>\n",
       "      <td>6</td>\n",
>>>>>>> 10a2c39d69d0646207c46952f77bfd263f5a28ed
       "      <td>1</td>\n",
       "      <td>13</td>\n",
       "      <td>20</td>\n",
       "    </tr>\n",
       "    <tr>\n",
       "      <th>1</th>\n",
<<<<<<< HEAD
       "      <td>Elizabeth Wilson</td>\n",
       "      <td>24</td>\n",
       "      <td>1</td>\n",
       "      <td>0</td>\n",
       "      <td>0</td>\n",
       "      <td>0</td>\n",
       "      <td>1</td>\n",
       "      <td>2</td>\n",
       "      <td>2</td>\n",
       "      <td>0</td>\n",
       "      <td>2</td>\n",
       "      <td>0</td>\n",
       "      <td>4</td>\n",
       "      <td>2</td>\n",
       "    </tr>\n",
       "    <tr>\n",
       "      <th>2</th>\n",
       "      <td>Ronald Robertson</td>\n",
       "      <td>48</td>\n",
       "      <td>2</td>\n",
       "      <td>0</td>\n",
       "      <td>0</td>\n",
       "      <td>0</td>\n",
       "      <td>0</td>\n",
       "      <td>1</td>\n",
       "      <td>2</td>\n",
       "      <td>2</td>\n",
       "      <td>2</td>\n",
       "      <td>2</td>\n",
       "      <td>3</td>\n",
       "      <td>3</td>\n",
       "    </tr>\n",
       "    <tr>\n",
       "      <th>3</th>\n",
       "      <td>Andrew Nicholson</td>\n",
       "      <td>44</td>\n",
       "      <td>1</td>\n",
       "      <td>0</td>\n",
       "      <td>0</td>\n",
       "      <td>0</td>\n",
       "      <td>0</td>\n",
       "      <td>3</td>\n",
       "      <td>2</td>\n",
       "      <td>1</td>\n",
       "      <td>2</td>\n",
       "      <td>1</td>\n",
       "      <td>4</td>\n",
       "      <td>4</td>\n",
       "    </tr>\n",
       "    <tr>\n",
       "      <th>4</th>\n",
       "      <td>Craig Drake</td>\n",
       "      <td>56</td>\n",
       "      <td>0</td>\n",
       "      <td>1</td>\n",
       "      <td>0</td>\n",
       "      <td>0</td>\n",
       "      <td>0</td>\n",
       "      <td>1</td>\n",
       "      <td>2</td>\n",
       "      <td>2</td>\n",
       "      <td>3</td>\n",
       "      <td>2</td>\n",
       "      <td>2</td>\n",
       "      <td>5</td>\n",
=======
       "      <td>John Jones</td>\n",
       "      <td>15</td>\n",
       "      <td>1</td>\n",
       "      <td>1</td>\n",
       "      <td>0</td>\n",
       "      <td>3</td>\n",
       "      <td>3</td>\n",
       "      <td>3</td>\n",
       "      <td>2</td>\n",
       "      <td>3</td>\n",
       "      <td>3</td>\n",
       "      <td>3</td>\n",
       "      <td>11</td>\n",
       "      <td>17</td>\n",
       "    </tr>\n",
       "    <tr>\n",
       "      <th>2</th>\n",
       "      <td>Debbie Parker</td>\n",
       "      <td>20</td>\n",
       "      <td>1</td>\n",
       "      <td>3</td>\n",
       "      <td>1</td>\n",
       "      <td>4</td>\n",
       "      <td>3</td>\n",
       "      <td>3</td>\n",
       "      <td>4</td>\n",
       "      <td>1</td>\n",
       "      <td>8</td>\n",
       "      <td>1</td>\n",
       "      <td>15</td>\n",
       "      <td>24</td>\n",
       "    </tr>\n",
       "    <tr>\n",
       "      <th>3</th>\n",
       "      <td>Lindsay Gomez</td>\n",
       "      <td>51</td>\n",
       "      <td>3</td>\n",
       "      <td>1</td>\n",
       "      <td>3</td>\n",
       "      <td>4</td>\n",
       "      <td>3</td>\n",
       "      <td>4</td>\n",
       "      <td>4</td>\n",
       "      <td>2</td>\n",
       "      <td>9</td>\n",
       "      <td>2</td>\n",
       "      <td>18</td>\n",
       "      <td>29</td>\n",
       "    </tr>\n",
       "    <tr>\n",
       "      <th>4</th>\n",
       "      <td>John Boyd</td>\n",
       "      <td>47</td>\n",
       "      <td>2</td>\n",
       "      <td>1</td>\n",
       "      <td>0</td>\n",
       "      <td>1</td>\n",
       "      <td>3</td>\n",
       "      <td>1</td>\n",
       "      <td>4</td>\n",
       "      <td>3</td>\n",
       "      <td>5</td>\n",
       "      <td>3</td>\n",
       "      <td>8</td>\n",
       "      <td>16</td>\n",
>>>>>>> 10a2c39d69d0646207c46952f77bfd263f5a28ed
       "    </tr>\n",
       "  </tbody>\n",
       "</table>\n",
       "</div>"
      ],
      "text/plain": [
<<<<<<< HEAD
       "            PATIENT  AGE  NEUROLOGICAL  CARDIOVASCULAR  RESPIRATORY  \\\n",
       "0   Michael Roberts   74             0               1            0   \n",
       "1  Elizabeth Wilson   24             1               0            0   \n",
       "2  Ronald Robertson   48             2               0            0   \n",
       "3  Andrew Nicholson   44             1               0            0   \n",
       "4       Craig Drake   56             0               1            0   \n",
       "\n",
       "   COAGULATION  HEPATIC  RENAL  ICC  ECOG  SCORE_MINOR_TOTAL  SCORE_FRAGILITY  \\\n",
       "0            0        0      0    2     0                  4                0   \n",
       "1            0        1      2    2     0                  2                0   \n",
       "2            0        0      1    2     2                  2                2   \n",
       "3            0        0      3    2     1                  2                1   \n",
       "4            0        0      1    2     2                  3                2   \n",
       "\n",
       "   SCORE_SOFA  CLASSIFICATION  \n",
       "0           1               1  \n",
       "1           4               2  \n",
       "2           3               3  \n",
       "3           4               4  \n",
       "4           2               5  "
=======
       "           PATIENT  AGE  NEUROLOGICAL  CARDIOVASCULAR  RESPIRATORY  \\\n",
       "0  Cynthia Estrada   79             4               0            0   \n",
       "1       John Jones   15             1               1            0   \n",
       "2    Debbie Parker   20             1               3            1   \n",
       "3    Lindsay Gomez   51             3               1            3   \n",
       "4        John Boyd   47             2               1            0   \n",
       "\n",
       "   COAGULATION  HEPATIC  RENAL  ICC  ECOG  SCORE_MINOR_TOTAL  SCORE_FRAGILITY  \\\n",
       "0            4        4      1    2     1                  6                1   \n",
       "1            3        3      3    2     3                  3                3   \n",
       "2            4        3      3    4     1                  8                1   \n",
       "3            4        3      4    4     2                  9                2   \n",
       "4            1        3      1    4     3                  5                3   \n",
       "\n",
       "   SCORE_SOFA  CLASSIFICATION  \n",
       "0          13              20  \n",
       "1          11              17  \n",
       "2          15              24  \n",
       "3          18              29  \n",
       "4           8              16  "
>>>>>>> 10a2c39d69d0646207c46952f77bfd263f5a28ed
      ]
     },
     "execution_count": 4,
     "metadata": {},
     "output_type": "execute_result"
    }
   ],
   "source": [
    "df.head()"
   ]
  },
  {
   "cell_type": "code",
   "execution_count": 5,
   "id": "6ddbd9f4",
   "metadata": {},
   "outputs": [
    {
     "data": {
      "text/html": [
       "<div>\n",
       "<style scoped>\n",
       "    .dataframe tbody tr th:only-of-type {\n",
       "        vertical-align: middle;\n",
       "    }\n",
       "\n",
       "    .dataframe tbody tr th {\n",
       "        vertical-align: top;\n",
       "    }\n",
       "\n",
       "    .dataframe thead th {\n",
       "        text-align: right;\n",
       "    }\n",
       "</style>\n",
       "<table border=\"1\" class=\"dataframe\">\n",
       "  <thead>\n",
       "    <tr style=\"text-align: right;\">\n",
       "      <th></th>\n",
       "      <th>AGE</th>\n",
       "      <th>NEUROLOGICAL</th>\n",
       "      <th>CARDIOVASCULAR</th>\n",
       "      <th>RESPIRATORY</th>\n",
       "      <th>COAGULATION</th>\n",
       "      <th>HEPATIC</th>\n",
       "      <th>RENAL</th>\n",
       "      <th>ICC</th>\n",
       "      <th>ECOG</th>\n",
       "      <th>SCORE_MINOR_TOTAL</th>\n",
       "      <th>SCORE_FRAGILITY</th>\n",
       "      <th>SCORE_SOFA</th>\n",
       "      <th>CLASSIFICATION</th>\n",
       "    </tr>\n",
       "  </thead>\n",
       "  <tbody>\n",
       "    <tr>\n",
       "      <th>count</th>\n",
<<<<<<< HEAD
       "      <td>1000.000000</td>\n",
       "      <td>1000.00000</td>\n",
       "      <td>1000.000000</td>\n",
       "      <td>1000.00000</td>\n",
       "      <td>1000.000000</td>\n",
       "      <td>1000.000000</td>\n",
       "      <td>1000.000000</td>\n",
       "      <td>1000.000000</td>\n",
       "      <td>1000.000000</td>\n",
       "      <td>1000.00000</td>\n",
       "      <td>1000.000000</td>\n",
       "      <td>1000.000000</td>\n",
       "      <td>1000.000000</td>\n",
       "    </tr>\n",
       "    <tr>\n",
       "      <th>mean</th>\n",
       "      <td>52.663000</td>\n",
       "      <td>1.99500</td>\n",
       "      <td>1.995000</td>\n",
       "      <td>2.02100</td>\n",
       "      <td>2.017000</td>\n",
       "      <td>2.011000</td>\n",
       "      <td>1.941000</td>\n",
       "      <td>2.972000</td>\n",
       "      <td>1.463000</td>\n",
       "      <td>6.05000</td>\n",
       "      <td>1.463000</td>\n",
       "      <td>11.980000</td>\n",
       "      <td>5.500000</td>\n",
       "    </tr>\n",
       "    <tr>\n",
       "      <th>std</th>\n",
       "      <td>24.887202</td>\n",
       "      <td>1.43214</td>\n",
       "      <td>1.398188</td>\n",
       "      <td>1.42569</td>\n",
       "      <td>1.430649</td>\n",
       "      <td>1.402443</td>\n",
       "      <td>1.390486</td>\n",
       "      <td>1.000108</td>\n",
       "      <td>1.112596</td>\n",
       "      <td>2.12415</td>\n",
       "      <td>1.112596</td>\n",
       "      <td>3.404878</td>\n",
       "      <td>2.873719</td>\n",
       "    </tr>\n",
       "    <tr>\n",
       "      <th>min</th>\n",
       "      <td>10.000000</td>\n",
       "      <td>0.00000</td>\n",
       "      <td>0.000000</td>\n",
       "      <td>0.00000</td>\n",
=======
       "      <td>100.000000</td>\n",
       "      <td>100.000000</td>\n",
       "      <td>100.000000</td>\n",
       "      <td>100.0000</td>\n",
       "      <td>100.000000</td>\n",
       "      <td>100.000000</td>\n",
       "      <td>100.000000</td>\n",
       "      <td>100.000000</td>\n",
       "      <td>100.00000</td>\n",
       "      <td>100.000000</td>\n",
       "      <td>100.00000</td>\n",
       "      <td>100.000000</td>\n",
       "      <td>100.00000</td>\n",
       "    </tr>\n",
       "    <tr>\n",
       "      <th>mean</th>\n",
       "      <td>51.130000</td>\n",
       "      <td>1.950000</td>\n",
       "      <td>1.930000</td>\n",
       "      <td>2.0400</td>\n",
       "      <td>1.790000</td>\n",
       "      <td>1.960000</td>\n",
       "      <td>1.850000</td>\n",
       "      <td>3.040000</td>\n",
       "      <td>1.44000</td>\n",
       "      <td>6.010000</td>\n",
       "      <td>1.44000</td>\n",
       "      <td>11.520000</td>\n",
       "      <td>18.97000</td>\n",
       "    </tr>\n",
       "    <tr>\n",
       "      <th>std</th>\n",
       "      <td>25.652162</td>\n",
       "      <td>1.388081</td>\n",
       "      <td>1.335264</td>\n",
       "      <td>1.3478</td>\n",
       "      <td>1.578229</td>\n",
       "      <td>1.399278</td>\n",
       "      <td>1.416889</td>\n",
       "      <td>1.004233</td>\n",
       "      <td>1.16619</td>\n",
       "      <td>2.240558</td>\n",
       "      <td>1.16619</td>\n",
       "      <td>3.785886</td>\n",
       "      <td>5.38508</td>\n",
       "    </tr>\n",
       "    <tr>\n",
       "      <th>min</th>\n",
       "      <td>11.000000</td>\n",
       "      <td>0.000000</td>\n",
       "      <td>0.000000</td>\n",
       "      <td>0.0000</td>\n",
>>>>>>> 10a2c39d69d0646207c46952f77bfd263f5a28ed
       "      <td>0.000000</td>\n",
       "      <td>0.000000</td>\n",
       "      <td>0.000000</td>\n",
       "      <td>2.000000</td>\n",
<<<<<<< HEAD
       "      <td>0.000000</td>\n",
       "      <td>2.00000</td>\n",
       "      <td>0.000000</td>\n",
       "      <td>1.000000</td>\n",
       "      <td>1.000000</td>\n",
       "    </tr>\n",
       "    <tr>\n",
       "      <th>25%</th>\n",
       "      <td>32.000000</td>\n",
       "      <td>1.00000</td>\n",
       "      <td>1.000000</td>\n",
       "      <td>1.00000</td>\n",
       "      <td>1.000000</td>\n",
       "      <td>1.000000</td>\n",
       "      <td>1.000000</td>\n",
       "      <td>2.000000</td>\n",
       "      <td>0.000000</td>\n",
       "      <td>4.00000</td>\n",
       "      <td>0.000000</td>\n",
       "      <td>10.000000</td>\n",
       "      <td>3.000000</td>\n",
       "    </tr>\n",
       "    <tr>\n",
       "      <th>50%</th>\n",
       "      <td>52.500000</td>\n",
       "      <td>2.00000</td>\n",
       "      <td>2.000000</td>\n",
       "      <td>2.00000</td>\n",
       "      <td>2.000000</td>\n",
       "      <td>2.000000</td>\n",
       "      <td>2.000000</td>\n",
       "      <td>2.000000</td>\n",
       "      <td>1.000000</td>\n",
       "      <td>6.00000</td>\n",
       "      <td>1.000000</td>\n",
       "      <td>12.000000</td>\n",
       "      <td>5.500000</td>\n",
       "    </tr>\n",
       "    <tr>\n",
       "      <th>75%</th>\n",
       "      <td>74.000000</td>\n",
       "      <td>3.00000</td>\n",
       "      <td>3.000000</td>\n",
       "      <td>3.00000</td>\n",
=======
       "      <td>0.00000</td>\n",
       "      <td>2.000000</td>\n",
       "      <td>0.00000</td>\n",
       "      <td>2.000000</td>\n",
       "      <td>7.00000</td>\n",
       "    </tr>\n",
       "    <tr>\n",
       "      <th>25%</th>\n",
       "      <td>28.750000</td>\n",
       "      <td>1.000000</td>\n",
       "      <td>1.000000</td>\n",
       "      <td>1.0000</td>\n",
       "      <td>0.000000</td>\n",
       "      <td>1.000000</td>\n",
       "      <td>0.000000</td>\n",
       "      <td>2.000000</td>\n",
       "      <td>0.00000</td>\n",
       "      <td>4.750000</td>\n",
       "      <td>0.00000</td>\n",
       "      <td>9.000000</td>\n",
       "      <td>14.75000</td>\n",
       "    </tr>\n",
       "    <tr>\n",
       "      <th>50%</th>\n",
       "      <td>51.000000</td>\n",
       "      <td>2.000000</td>\n",
       "      <td>2.000000</td>\n",
       "      <td>2.0000</td>\n",
       "      <td>1.000000</td>\n",
       "      <td>2.000000</td>\n",
       "      <td>2.000000</td>\n",
       "      <td>4.000000</td>\n",
       "      <td>1.00000</td>\n",
       "      <td>6.000000</td>\n",
       "      <td>1.00000</td>\n",
       "      <td>11.000000</td>\n",
       "      <td>19.50000</td>\n",
       "    </tr>\n",
       "    <tr>\n",
       "      <th>75%</th>\n",
       "      <td>72.000000</td>\n",
       "      <td>3.000000</td>\n",
       "      <td>3.000000</td>\n",
       "      <td>3.0000</td>\n",
>>>>>>> 10a2c39d69d0646207c46952f77bfd263f5a28ed
       "      <td>3.000000</td>\n",
       "      <td>3.000000</td>\n",
       "      <td>3.000000</td>\n",
       "      <td>4.000000</td>\n",
<<<<<<< HEAD
       "      <td>2.000000</td>\n",
       "      <td>8.00000</td>\n",
       "      <td>2.000000</td>\n",
       "      <td>14.000000</td>\n",
       "      <td>8.000000</td>\n",
=======
       "      <td>3.00000</td>\n",
       "      <td>8.000000</td>\n",
       "      <td>3.00000</td>\n",
       "      <td>14.000000</td>\n",
       "      <td>22.25000</td>\n",
>>>>>>> 10a2c39d69d0646207c46952f77bfd263f5a28ed
       "    </tr>\n",
       "    <tr>\n",
       "      <th>max</th>\n",
       "      <td>95.000000</td>\n",
<<<<<<< HEAD
       "      <td>4.00000</td>\n",
       "      <td>4.000000</td>\n",
       "      <td>4.00000</td>\n",
=======
       "      <td>4.000000</td>\n",
       "      <td>4.000000</td>\n",
       "      <td>4.0000</td>\n",
>>>>>>> 10a2c39d69d0646207c46952f77bfd263f5a28ed
       "      <td>4.000000</td>\n",
       "      <td>4.000000</td>\n",
       "      <td>4.000000</td>\n",
       "      <td>4.000000</td>\n",
<<<<<<< HEAD
       "      <td>3.000000</td>\n",
       "      <td>11.00000</td>\n",
       "      <td>3.000000</td>\n",
       "      <td>22.000000</td>\n",
       "      <td>10.000000</td>\n",
=======
       "      <td>3.00000</td>\n",
       "      <td>11.000000</td>\n",
       "      <td>3.00000</td>\n",
       "      <td>19.000000</td>\n",
       "      <td>30.00000</td>\n",
>>>>>>> 10a2c39d69d0646207c46952f77bfd263f5a28ed
       "    </tr>\n",
       "  </tbody>\n",
       "</table>\n",
       "</div>"
      ],
      "text/plain": [
<<<<<<< HEAD
       "               AGE  NEUROLOGICAL  CARDIOVASCULAR  RESPIRATORY  COAGULATION  \\\n",
       "count  1000.000000    1000.00000     1000.000000   1000.00000  1000.000000   \n",
       "mean     52.663000       1.99500        1.995000      2.02100     2.017000   \n",
       "std      24.887202       1.43214        1.398188      1.42569     1.430649   \n",
       "min      10.000000       0.00000        0.000000      0.00000     0.000000   \n",
       "25%      32.000000       1.00000        1.000000      1.00000     1.000000   \n",
       "50%      52.500000       2.00000        2.000000      2.00000     2.000000   \n",
       "75%      74.000000       3.00000        3.000000      3.00000     3.000000   \n",
       "max      95.000000       4.00000        4.000000      4.00000     4.000000   \n",
       "\n",
       "           HEPATIC        RENAL          ICC         ECOG  SCORE_MINOR_TOTAL  \\\n",
       "count  1000.000000  1000.000000  1000.000000  1000.000000         1000.00000   \n",
       "mean      2.011000     1.941000     2.972000     1.463000            6.05000   \n",
       "std       1.402443     1.390486     1.000108     1.112596            2.12415   \n",
       "min       0.000000     0.000000     2.000000     0.000000            2.00000   \n",
       "25%       1.000000     1.000000     2.000000     0.000000            4.00000   \n",
       "50%       2.000000     2.000000     2.000000     1.000000            6.00000   \n",
       "75%       3.000000     3.000000     4.000000     2.000000            8.00000   \n",
       "max       4.000000     4.000000     4.000000     3.000000           11.00000   \n",
       "\n",
       "       SCORE_FRAGILITY   SCORE_SOFA  CLASSIFICATION  \n",
       "count      1000.000000  1000.000000     1000.000000  \n",
       "mean          1.463000    11.980000        5.500000  \n",
       "std           1.112596     3.404878        2.873719  \n",
       "min           0.000000     1.000000        1.000000  \n",
       "25%           0.000000    10.000000        3.000000  \n",
       "50%           1.000000    12.000000        5.500000  \n",
       "75%           2.000000    14.000000        8.000000  \n",
       "max           3.000000    22.000000       10.000000  "
=======
       "              AGE  NEUROLOGICAL  CARDIOVASCULAR  RESPIRATORY  COAGULATION  \\\n",
       "count  100.000000    100.000000      100.000000     100.0000   100.000000   \n",
       "mean    51.130000      1.950000        1.930000       2.0400     1.790000   \n",
       "std     25.652162      1.388081        1.335264       1.3478     1.578229   \n",
       "min     11.000000      0.000000        0.000000       0.0000     0.000000   \n",
       "25%     28.750000      1.000000        1.000000       1.0000     0.000000   \n",
       "50%     51.000000      2.000000        2.000000       2.0000     1.000000   \n",
       "75%     72.000000      3.000000        3.000000       3.0000     3.000000   \n",
       "max     95.000000      4.000000        4.000000       4.0000     4.000000   \n",
       "\n",
       "          HEPATIC       RENAL         ICC       ECOG  SCORE_MINOR_TOTAL  \\\n",
       "count  100.000000  100.000000  100.000000  100.00000         100.000000   \n",
       "mean     1.960000    1.850000    3.040000    1.44000           6.010000   \n",
       "std      1.399278    1.416889    1.004233    1.16619           2.240558   \n",
       "min      0.000000    0.000000    2.000000    0.00000           2.000000   \n",
       "25%      1.000000    0.000000    2.000000    0.00000           4.750000   \n",
       "50%      2.000000    2.000000    4.000000    1.00000           6.000000   \n",
       "75%      3.000000    3.000000    4.000000    3.00000           8.000000   \n",
       "max      4.000000    4.000000    4.000000    3.00000          11.000000   \n",
       "\n",
       "       SCORE_FRAGILITY  SCORE_SOFA  CLASSIFICATION  \n",
       "count        100.00000  100.000000       100.00000  \n",
       "mean           1.44000   11.520000        18.97000  \n",
       "std            1.16619    3.785886         5.38508  \n",
       "min            0.00000    2.000000         7.00000  \n",
       "25%            0.00000    9.000000        14.75000  \n",
       "50%            1.00000   11.000000        19.50000  \n",
       "75%            3.00000   14.000000        22.25000  \n",
       "max            3.00000   19.000000        30.00000  "
>>>>>>> 10a2c39d69d0646207c46952f77bfd263f5a28ed
      ]
     },
     "execution_count": 5,
     "metadata": {},
     "output_type": "execute_result"
    }
   ],
   "source": [
    "df.describe()\n"
   ]
  },
  {
   "cell_type": "code",
   "execution_count": 6,
   "id": "c0b83525",
   "metadata": {},
   "outputs": [
    {
     "data": {
      "text/plain": [
<<<<<<< HEAD
       "20    22\n",
       "47    19\n",
       "29    19\n",
       "35    19\n",
       "92    19\n",
       "      ..\n",
       "36     5\n",
       "60     5\n",
       "27     5\n",
       "22     5\n",
       "50     4\n",
       "Name: AGE, Length: 86, dtype: int64"
=======
       "29    3\n",
       "45    3\n",
       "21    3\n",
       "13    3\n",
       "54    3\n",
       "     ..\n",
       "70    1\n",
       "19    1\n",
       "28    1\n",
       "81    1\n",
       "83    1\n",
       "Name: AGE, Length: 61, dtype: int64"
>>>>>>> 10a2c39d69d0646207c46952f77bfd263f5a28ed
      ]
     },
     "execution_count": 6,
     "metadata": {},
     "output_type": "execute_result"
    }
   ],
   "source": [
    "df['AGE'].value_counts()"
   ]
  },
  {
   "cell_type": "code",
   "execution_count": 7,
   "id": "7483d000",
   "metadata": {},
   "outputs": [
    {
     "data": {
      "text/plain": [
<<<<<<< HEAD
       "(1000, 14)"
=======
       "(100, 14)"
>>>>>>> 10a2c39d69d0646207c46952f77bfd263f5a28ed
      ]
     },
     "execution_count": 7,
     "metadata": {},
     "output_type": "execute_result"
    }
   ],
   "source": [
    "# Shape of Data\n",
    "df.shape"
   ]
  },
  {
   "cell_type": "code",
   "execution_count": 8,
   "id": "85e6c041",
   "metadata": {},
   "outputs": [],
   "source": [
    "# drop some colums we donot need like dates and id\n",
    "df.drop(columns={'PATIENT'},axis=1,inplace=True)\n",
    "#df.shape"
   ]
  },
  {
   "cell_type": "code",
   "execution_count": 9,
   "id": "82510c2c",
   "metadata": {},
   "outputs": [
    {
     "data": {
      "text/plain": [
<<<<<<< HEAD
       "(1000, 13)"
=======
       "(100, 13)"
>>>>>>> 10a2c39d69d0646207c46952f77bfd263f5a28ed
      ]
     },
     "execution_count": 9,
     "metadata": {},
     "output_type": "execute_result"
    }
   ],
   "source": [
    "df.shape"
   ]
  },
  {
   "cell_type": "code",
   "execution_count": 10,
   "id": "d7d8daea",
   "metadata": {},
   "outputs": [
    {
     "data": {
      "text/plain": [
<<<<<<< HEAD
       "4    211\n",
       "0    208\n",
       "2    208\n",
       "1    192\n",
       "3    181\n",
=======
       "2    26\n",
       "0    20\n",
       "4    19\n",
       "1    19\n",
       "3    16\n",
>>>>>>> 10a2c39d69d0646207c46952f77bfd263f5a28ed
       "Name: NEUROLOGICAL, dtype: int64"
      ]
     },
     "execution_count": 10,
     "metadata": {},
     "output_type": "execute_result"
    }
   ],
   "source": [
    "df['NEUROLOGICAL'].value_counts()"
   ]
  },
  {
   "cell_type": "code",
   "execution_count": 11,
   "id": "faf25477",
   "metadata": {},
   "outputs": [
    {
     "data": {
      "text/plain": [
<<<<<<< HEAD
       "1    218\n",
       "2    202\n",
       "4    197\n",
       "3    195\n",
       "0    188\n",
=======
       "2    28\n",
       "1    21\n",
       "0    18\n",
       "4    17\n",
       "3    16\n",
>>>>>>> 10a2c39d69d0646207c46952f77bfd263f5a28ed
       "Name: CARDIOVASCULAR, dtype: int64"
      ]
     },
     "execution_count": 11,
     "metadata": {},
     "output_type": "execute_result"
    }
   ],
   "source": [
    "df['CARDIOVASCULAR'].value_counts()"
   ]
  },
  {
   "cell_type": "code",
   "execution_count": 12,
   "id": "acc62ce5",
   "metadata": {},
   "outputs": [
    {
     "data": {
      "text/plain": [
<<<<<<< HEAD
       "4    207\n",
       "3    203\n",
       "0    202\n",
       "2    196\n",
       "1    192\n",
=======
       "2    25\n",
       "1    21\n",
       "3    19\n",
       "4    19\n",
       "0    16\n",
>>>>>>> 10a2c39d69d0646207c46952f77bfd263f5a28ed
       "Name: RESPIRATORY, dtype: int64"
      ]
     },
     "execution_count": 12,
     "metadata": {},
     "output_type": "execute_result"
    }
   ],
   "source": [
    "df['RESPIRATORY'].value_counts()"
   ]
  },
  {
   "cell_type": "code",
   "execution_count": 13,
   "id": "a1d72ee0",
   "metadata": {},
   "outputs": [
    {
     "data": {
      "text/plain": [
<<<<<<< HEAD
       "3    209\n",
       "4    207\n",
       "1    204\n",
       "0    201\n",
       "2    179\n",
=======
       "0    31\n",
       "4    23\n",
       "1    20\n",
       "3    15\n",
       "2    11\n",
>>>>>>> 10a2c39d69d0646207c46952f77bfd263f5a28ed
       "Name: COAGULATION, dtype: int64"
      ]
     },
     "execution_count": 13,
     "metadata": {},
     "output_type": "execute_result"
    }
   ],
   "source": [
    "df['COAGULATION'].value_counts()"
   ]
  },
  {
   "cell_type": "code",
   "execution_count": 14,
   "id": "546c801e",
   "metadata": {},
   "outputs": [
    {
     "data": {
      "text/plain": [
<<<<<<< HEAD
       "1    214\n",
       "3    211\n",
       "4    196\n",
       "2    190\n",
       "0    189\n",
=======
       "3    27\n",
       "0    23\n",
       "2    20\n",
       "4    15\n",
       "1    15\n",
>>>>>>> 10a2c39d69d0646207c46952f77bfd263f5a28ed
       "Name: HEPATIC, dtype: int64"
      ]
     },
     "execution_count": 14,
     "metadata": {},
     "output_type": "execute_result"
    }
   ],
   "source": [
    "df['HEPATIC'].value_counts()"
   ]
  },
  {
   "cell_type": "code",
   "execution_count": 15,
   "id": "70d9bfd6",
   "metadata": {},
   "outputs": [
    {
     "data": {
      "text/plain": [
<<<<<<< HEAD
       "2    220\n",
       "1    216\n",
       "0    198\n",
       "4    187\n",
       "3    179\n",
=======
       "0    26\n",
       "2    25\n",
       "3    19\n",
       "4    16\n",
       "1    14\n",
>>>>>>> 10a2c39d69d0646207c46952f77bfd263f5a28ed
       "Name: RENAL, dtype: int64"
      ]
     },
     "execution_count": 15,
     "metadata": {},
     "output_type": "execute_result"
    }
   ],
   "source": [
    "df['RENAL'].value_counts()"
   ]
  },
  {
   "cell_type": "code",
   "execution_count": 16,
   "id": "12b7b320",
   "metadata": {},
   "outputs": [
    {
     "data": {
      "text/plain": [
<<<<<<< HEAD
       "2    514\n",
       "4    486\n",
=======
       "4    52\n",
       "2    48\n",
>>>>>>> 10a2c39d69d0646207c46952f77bfd263f5a28ed
       "Name: ICC, dtype: int64"
      ]
     },
     "execution_count": 16,
     "metadata": {},
     "output_type": "execute_result"
    }
   ],
   "source": [
    "df['ICC'].value_counts()\n"
   ]
  },
  {
   "cell_type": "code",
   "execution_count": 17,
   "id": "e9042cc6",
   "metadata": {},
   "outputs": [
    {
     "data": {
      "text/plain": [
<<<<<<< HEAD
       "0    258\n",
       "1    257\n",
       "2    249\n",
       "3    236\n",
=======
       "0    29\n",
       "3    26\n",
       "1    24\n",
       "2    21\n",
>>>>>>> 10a2c39d69d0646207c46952f77bfd263f5a28ed
       "Name: ECOG, dtype: int64"
      ]
     },
     "execution_count": 17,
     "metadata": {},
     "output_type": "execute_result"
    }
   ],
   "source": [
    "df['ECOG'].value_counts()"
   ]
  },
  {
   "cell_type": "code",
   "execution_count": 18,
   "id": "a3646dda",
   "metadata": {},
   "outputs": [
    {
     "data": {
      "text/plain": [
<<<<<<< HEAD
       "11    123\n",
       "13    123\n",
       "10    107\n",
       "12     94\n",
       "14     88\n",
       "15     81\n",
       "9      80\n",
       "8      60\n",
       "16     54\n",
       "7      37\n",
       "17     37\n",
       "18     34\n",
       "6      27\n",
       "19     19\n",
       "5      13\n",
       "4       9\n",
       "20      7\n",
       "3       3\n",
       "21      1\n",
       "1       1\n",
       "2       1\n",
       "22      1\n",
=======
       "9     11\n",
       "12    10\n",
       "11    10\n",
       "14     8\n",
       "8      8\n",
       "10     8\n",
       "13     7\n",
       "15     7\n",
       "17     6\n",
       "7      6\n",
       "16     5\n",
       "18     4\n",
       "4      3\n",
       "6      3\n",
       "19     2\n",
       "2      1\n",
       "5      1\n",
>>>>>>> 10a2c39d69d0646207c46952f77bfd263f5a28ed
       "Name: SCORE_SOFA, dtype: int64"
      ]
     },
     "execution_count": 18,
     "metadata": {},
     "output_type": "execute_result"
    }
   ],
   "source": [
    "df['SCORE_SOFA'].value_counts()"
   ]
  },
  {
   "cell_type": "code",
   "execution_count": 19,
   "id": "de9481a2",
   "metadata": {},
   "outputs": [
    {
     "data": {
      "text/plain": [
<<<<<<< HEAD
       "0    258\n",
       "1    257\n",
       "2    249\n",
       "3    236\n",
=======
       "0    29\n",
       "3    26\n",
       "1    24\n",
       "2    21\n",
>>>>>>> 10a2c39d69d0646207c46952f77bfd263f5a28ed
       "Name: SCORE_FRAGILITY, dtype: int64"
      ]
     },
     "execution_count": 19,
     "metadata": {},
     "output_type": "execute_result"
    }
   ],
   "source": [
    "df['SCORE_FRAGILITY'].value_counts()"
   ]
  },
  {
   "cell_type": "code",
   "execution_count": 20,
   "id": "9a9c6e36",
   "metadata": {},
   "outputs": [
    {
     "data": {
      "text/plain": [
       "AGE                  0\n",
       "NEUROLOGICAL         0\n",
       "CARDIOVASCULAR       0\n",
       "RESPIRATORY          0\n",
       "COAGULATION          0\n",
       "HEPATIC              0\n",
       "RENAL                0\n",
       "ICC                  0\n",
       "ECOG                 0\n",
       "SCORE_MINOR_TOTAL    0\n",
       "SCORE_FRAGILITY      0\n",
       "SCORE_SOFA           0\n",
       "CLASSIFICATION       0\n",
       "dtype: int64"
      ]
     },
     "execution_count": 20,
     "metadata": {},
     "output_type": "execute_result"
    }
   ],
   "source": [
    "# CHECK  NULL Values\n",
    "df.isnull().sum()"
   ]
  },
  {
   "cell_type": "code",
   "execution_count": 21,
   "id": "815704be",
   "metadata": {},
   "outputs": [
    {
     "data": {
      "text/plain": [
<<<<<<< HEAD
       "1     100\n",
       "2     100\n",
       "3     100\n",
       "4     100\n",
       "5     100\n",
       "6     100\n",
       "7     100\n",
       "8     100\n",
       "9     100\n",
       "10    100\n",
=======
       "21    12\n",
       "14     9\n",
       "20     8\n",
       "18     8\n",
       "24     7\n",
       "16     6\n",
       "12     5\n",
       "22     5\n",
       "17     5\n",
       "26     5\n",
       "19     4\n",
       "23     4\n",
       "13     4\n",
       "30     3\n",
       "28     3\n",
       "8      3\n",
       "15     2\n",
       "7      1\n",
       "9      1\n",
       "10     1\n",
       "27     1\n",
       "29     1\n",
       "25     1\n",
       "11     1\n",
>>>>>>> 10a2c39d69d0646207c46952f77bfd263f5a28ed
       "Name: CLASSIFICATION, dtype: int64"
      ]
     },
     "execution_count": 21,
     "metadata": {},
     "output_type": "execute_result"
    }
   ],
   "source": [
    "df['CLASSIFICATION'].value_counts()"
   ]
  },
  {
   "cell_type": "code",
   "execution_count": 22,
   "id": "2d6faa00",
   "metadata": {},
   "outputs": [
    {
     "name": "stdout",
     "output_type": "stream",
     "text": [
<<<<<<< HEAD
      "     AGE  NEUROLOGICAL  CARDIOVASCULAR  RESPIRATORY  COAGULATION  HEPATIC  \\\n",
      "0     74             0               1            0            0        0   \n",
      "1     24             1               0            0            0        1   \n",
      "2     48             2               0            0            0        0   \n",
      "3     44             1               0            0            0        0   \n",
      "4     56             0               1            0            0        0   \n",
      "..   ...           ...             ...          ...          ...      ...   \n",
      "995   84             4               3            1            4        3   \n",
      "996   90             2               3            2            3        4   \n",
      "997   74             4               2            4            2        3   \n",
      "998   92             1               4            4            4        3   \n",
      "999   76             4               3            2            4        3   \n",
      "\n",
      "     RENAL  ICC  ECOG  SCORE_MINOR_TOTAL  SCORE_FRAGILITY  SCORE_SOFA  \n",
      "0        0    2     0                  4                0           1  \n",
      "1        2    2     0                  2                0           4  \n",
      "2        1    2     2                  2                2           3  \n",
      "3        3    2     1                  2                1           4  \n",
      "4        1    2     2                  3                2           2  \n",
      "..     ...  ...   ...                ...              ...         ...  \n",
      "995      3    4     3                 10                3          18  \n",
      "996      4    4     2                 11                2          18  \n",
      "997      4    4     2                 10                2          19  \n",
      "998      4    2     3                  8                3          20  \n",
      "999      2    4     3                 10                3          18  \n",
      "\n",
      "[1000 rows x 12 columns]\n"
=======
      "    AGE  NEUROLOGICAL  CARDIOVASCULAR  RESPIRATORY  COAGULATION  HEPATIC  \\\n",
      "0    79             4               0            0            4        4   \n",
      "1    15             1               1            0            3        3   \n",
      "2    20             1               3            1            4        3   \n",
      "3    51             3               1            3            4        3   \n",
      "4    47             2               1            0            1        3   \n",
      "..  ...           ...             ...          ...          ...      ...   \n",
      "95   58             3               2            3            4        1   \n",
      "96   25             2               4            0            3        1   \n",
      "97   92             4               2            2            4        2   \n",
      "98   89             3               1            2            2        2   \n",
      "99   12             3               3            4            0        2   \n",
      "\n",
      "    RENAL  ICC  ECOG  SCORE_MINOR_TOTAL  SCORE_FRAGILITY  SCORE_SOFA  \n",
      "0       1    2     1                  6                1          13  \n",
      "1       3    2     3                  3                3          11  \n",
      "2       3    4     1                  8                1          15  \n",
      "3       4    4     2                  9                2          18  \n",
      "4       1    4     3                  5                3           8  \n",
      "..    ...  ...   ...                ...              ...         ...  \n",
      "95      4    2     0                  6                0          17  \n",
      "96      2    4     2                  7                2          12  \n",
      "97      3    4     2                 11                2          17  \n",
      "98      3    2     0                  7                0          13  \n",
      "99      0    4     0                  7                0          12  \n",
      "\n",
      "[100 rows x 12 columns]\n"
>>>>>>> 10a2c39d69d0646207c46952f77bfd263f5a28ed
     ]
    }
   ],
   "source": [
    "X = df[['AGE', 'NEUROLOGICAL', 'CARDIOVASCULAR', 'RESPIRATORY', 'COAGULATION', 'HEPATIC', 'RENAL', 'ICC', 'ECOG', 'SCORE_MINOR_TOTAL', 'SCORE_FRAGILITY', 'SCORE_SOFA']]\n",
    "print(X)"
   ]
  },
  {
   "cell_type": "code",
   "execution_count": 23,
   "id": "55c803ff",
   "metadata": {},
   "outputs": [
    {
     "data": {
      "text/plain": [
<<<<<<< HEAD
       "(1000, 13)"
=======
       "(100, 13)"
>>>>>>> 10a2c39d69d0646207c46952f77bfd263f5a28ed
      ]
     },
     "execution_count": 23,
     "metadata": {},
     "output_type": "execute_result"
    }
   ],
   "source": [
    "df.shape"
   ]
  },
  {
   "cell_type": "code",
   "execution_count": 24,
   "id": "2e3bf0cf",
   "metadata": {},
   "outputs": [
    {
     "data": {
      "text/html": [
       "<div>\n",
       "<style scoped>\n",
       "    .dataframe tbody tr th:only-of-type {\n",
       "        vertical-align: middle;\n",
       "    }\n",
       "\n",
       "    .dataframe tbody tr th {\n",
       "        vertical-align: top;\n",
       "    }\n",
       "\n",
       "    .dataframe thead th {\n",
       "        text-align: right;\n",
       "    }\n",
       "</style>\n",
       "<table border=\"1\" class=\"dataframe\">\n",
       "  <thead>\n",
       "    <tr style=\"text-align: right;\">\n",
       "      <th></th>\n",
       "      <th>CLASSIFICATION</th>\n",
       "    </tr>\n",
       "  </thead>\n",
       "  <tbody>\n",
       "    <tr>\n",
<<<<<<< HEAD
       "      <th>1</th>\n",
       "      <td>100</td>\n",
       "    </tr>\n",
       "    <tr>\n",
       "      <th>0</th>\n",
       "      <td>100</td>\n",
       "    </tr>\n",
       "    <tr>\n",
       "      <th>2</th>\n",
       "      <td>100</td>\n",
       "    </tr>\n",
       "    <tr>\n",
       "      <th>4</th>\n",
       "      <td>100</td>\n",
       "    </tr>\n",
       "    <tr>\n",
       "      <th>5</th>\n",
       "      <td>100</td>\n",
       "    </tr>\n",
       "    <tr>\n",
       "      <th>6</th>\n",
       "      <td>100</td>\n",
       "    </tr>\n",
       "    <tr>\n",
       "      <th>7</th>\n",
       "      <td>100</td>\n",
       "    </tr>\n",
       "    <tr>\n",
       "      <th>8</th>\n",
       "      <td>100</td>\n",
       "    </tr>\n",
       "    <tr>\n",
       "      <th>9</th>\n",
       "      <td>100</td>\n",
       "    </tr>\n",
       "    <tr>\n",
       "      <th>10</th>\n",
       "      <td>100</td>\n",
=======
       "      <th>21</th>\n",
       "      <td>12</td>\n",
       "    </tr>\n",
       "    <tr>\n",
       "      <th>14</th>\n",
       "      <td>9</td>\n",
       "    </tr>\n",
       "    <tr>\n",
       "      <th>20</th>\n",
       "      <td>8</td>\n",
       "    </tr>\n",
       "    <tr>\n",
       "      <th>18</th>\n",
       "      <td>8</td>\n",
       "    </tr>\n",
       "    <tr>\n",
       "      <th>24</th>\n",
       "      <td>7</td>\n",
       "    </tr>\n",
       "    <tr>\n",
       "      <th>16</th>\n",
       "      <td>6</td>\n",
       "    </tr>\n",
       "    <tr>\n",
       "      <th>12</th>\n",
       "      <td>5</td>\n",
       "    </tr>\n",
       "    <tr>\n",
       "      <th>22</th>\n",
       "      <td>5</td>\n",
       "    </tr>\n",
       "    <tr>\n",
       "      <th>17</th>\n",
       "      <td>5</td>\n",
       "    </tr>\n",
       "    <tr>\n",
       "      <th>26</th>\n",
       "      <td>5</td>\n",
       "    </tr>\n",
       "    <tr>\n",
       "      <th>19</th>\n",
       "      <td>4</td>\n",
       "    </tr>\n",
       "    <tr>\n",
       "      <th>23</th>\n",
       "      <td>4</td>\n",
       "    </tr>\n",
       "    <tr>\n",
       "      <th>13</th>\n",
       "      <td>4</td>\n",
       "    </tr>\n",
       "    <tr>\n",
       "      <th>30</th>\n",
       "      <td>3</td>\n",
       "    </tr>\n",
       "    <tr>\n",
       "      <th>28</th>\n",
       "      <td>3</td>\n",
       "    </tr>\n",
       "    <tr>\n",
       "      <th>8</th>\n",
       "      <td>3</td>\n",
       "    </tr>\n",
       "    <tr>\n",
       "      <th>15</th>\n",
       "      <td>2</td>\n",
       "    </tr>\n",
       "    <tr>\n",
       "      <th>7</th>\n",
       "      <td>1</td>\n",
       "    </tr>\n",
       "    <tr>\n",
       "      <th>9</th>\n",
       "      <td>1</td>\n",
       "    </tr>\n",
       "    <tr>\n",
       "      <th>10</th>\n",
       "      <td>1</td>\n",
       "    </tr>\n",
       "    <tr>\n",
       "      <th>27</th>\n",
       "      <td>1</td>\n",
       "    </tr>\n",
       "    <tr>\n",
       "      <th>29</th>\n",
       "      <td>1</td>\n",
       "    </tr>\n",
       "    <tr>\n",
       "      <th>25</th>\n",
       "      <td>1</td>\n",
       "    </tr>\n",
       "    <tr>\n",
       "      <th>11</th>\n",
       "      <td>1</td>\n",
>>>>>>> 10a2c39d69d0646207c46952f77bfd263f5a28ed
       "    </tr>\n",
       "  </tbody>\n",
       "</table>\n",
       "</div>"
      ],
      "text/plain": [
       "    CLASSIFICATION\n",
<<<<<<< HEAD
       "1              100\n",
       "0              100\n",
       "2              100\n",
       "4              100\n",
       "5              100\n",
       "6              100\n",
       "7              100\n",
       "8              100\n",
       "9              100\n",
       "10             100"
=======
       "21              12\n",
       "14               9\n",
       "20               8\n",
       "18               8\n",
       "24               7\n",
       "16               6\n",
       "12               5\n",
       "22               5\n",
       "17               5\n",
       "26               5\n",
       "19               4\n",
       "23               4\n",
       "13               4\n",
       "30               3\n",
       "28               3\n",
       "8                3\n",
       "15               2\n",
       "7                1\n",
       "9                1\n",
       "10               1\n",
       "27               1\n",
       "29               1\n",
       "25               1\n",
       "11               1"
>>>>>>> 10a2c39d69d0646207c46952f77bfd263f5a28ed
      ]
     },
     "execution_count": 24,
     "metadata": {},
     "output_type": "execute_result"
    }
   ],
   "source": [
    "df['CLASSIFICATION'].replace([1,2,3],[1,0,2],inplace=True)\n",
    "df['CLASSIFICATION'].value_counts().to_frame() "
   ]
  },
  {
   "cell_type": "code",
   "execution_count": 25,
   "id": "39516995",
   "metadata": {},
   "outputs": [
    {
     "name": "stdout",
     "output_type": "stream",
     "text": [
<<<<<<< HEAD
      "0       1\n",
      "1       0\n",
      "2       2\n",
      "3       4\n",
      "4       5\n",
      "       ..\n",
      "995     6\n",
      "996     7\n",
      "997     8\n",
      "998     9\n",
      "999    10\n",
      "Name: CLASSIFICATION, Length: 1000, dtype: int64\n"
=======
      "0     20\n",
      "1     17\n",
      "2     24\n",
      "3     29\n",
      "4     16\n",
      "      ..\n",
      "95    23\n",
      "96    21\n",
      "97    30\n",
      "98    20\n",
      "99    19\n",
      "Name: CLASSIFICATION, Length: 100, dtype: int64\n"
>>>>>>> 10a2c39d69d0646207c46952f77bfd263f5a28ed
     ]
    },
    {
     "data": {
      "text/plain": [
<<<<<<< HEAD
       "(1000,)"
=======
       "(100,)"
>>>>>>> 10a2c39d69d0646207c46952f77bfd263f5a28ed
      ]
     },
     "execution_count": 25,
     "metadata": {},
     "output_type": "execute_result"
    }
   ],
   "source": [
    "\n",
    "y = df['CLASSIFICATION']\n",
    "print(y)\n",
    "y.shape"
   ]
  },
  {
   "cell_type": "code",
   "execution_count": 26,
   "id": "eeac9f02",
   "metadata": {},
   "outputs": [],
   "source": [
    "x_train,x_test,y_train,y_test = train_test_split(X, y, test_size=0.2, random_state=1)"
   ]
  },
  {
   "cell_type": "code",
   "execution_count": 27,
   "id": "ec8d034c",
   "metadata": {},
   "outputs": [],
   "source": [
    "# apply Models (Desicion tree, SVC, Random Forest, Logistic Regression)\n",
    "from sklearn.tree import DecisionTreeClassifier\n",
    "#from sklearn.metrics import classification_report, confusion_matrix\n",
    "#from sklearn.svm import SVC"
   ]
  },
  {
   "cell_type": "code",
   "execution_count": 28,
   "id": "f454d98b",
   "metadata": {},
   "outputs": [],
   "source": [
    "# instance of model\n",
    "treeModel = DecisionTreeClassifier()"
   ]
  },
  {
   "cell_type": "code",
   "execution_count": 31,
   "id": "43e9b7fe",
   "metadata": {},
   "outputs": [
    {
     "ename": "NotFittedError",
     "evalue": "This DecisionTreeClassifier instance is not fitted yet. Call 'fit' with appropriate arguments before using this estimator.",
     "output_type": "error",
     "traceback": [
      "\u001b[1;31m---------------------------------------------------------------------------\u001b[0m",
      "\u001b[1;31mNotFittedError\u001b[0m                            Traceback (most recent call last)",
      "\u001b[1;32mc:\\MedicalDecisionSupport\\Model_Regression.ipynb Célula: 29\u001b[0m in \u001b[0;36m<cell line: 1>\u001b[1;34m()\u001b[0m\n\u001b[1;32m----> <a href='vscode-notebook-cell:/c%3A/MedicalDecisionSupport/Model_Regression.ipynb#ch0000050?line=0'>1</a>\u001b[0m plot_tree(treeModel)\n",
      "File \u001b[1;32mc:\\MedicalDecisionSupport\\venv\\lib\\site-packages\\sklearn\\tree\\_export.py:180\u001b[0m, in \u001b[0;36mplot_tree\u001b[1;34m(decision_tree, max_depth, feature_names, class_names, label, filled, impurity, node_ids, proportion, rounded, precision, ax, fontsize)\u001b[0m\n\u001b[0;32m     78\u001b[0m \u001b[39mdef\u001b[39;00m \u001b[39mplot_tree\u001b[39m(\n\u001b[0;32m     79\u001b[0m     decision_tree,\n\u001b[0;32m     80\u001b[0m     \u001b[39m*\u001b[39m,\n\u001b[1;32m   (...)\u001b[0m\n\u001b[0;32m     92\u001b[0m     fontsize\u001b[39m=\u001b[39m\u001b[39mNone\u001b[39;00m,\n\u001b[0;32m     93\u001b[0m ):\n\u001b[0;32m     94\u001b[0m     \u001b[39m\"\"\"Plot a decision tree.\u001b[39;00m\n\u001b[0;32m     95\u001b[0m \n\u001b[0;32m     96\u001b[0m \u001b[39m    The sample counts that are shown are weighted with any sample_weights that\u001b[39;00m\n\u001b[1;32m   (...)\u001b[0m\n\u001b[0;32m    177\u001b[0m \n\u001b[0;32m    178\u001b[0m \u001b[39m    \"\"\"\u001b[39;00m\n\u001b[1;32m--> 180\u001b[0m     check_is_fitted(decision_tree)\n\u001b[0;32m    182\u001b[0m     exporter \u001b[39m=\u001b[39m _MPLTreeExporter(\n\u001b[0;32m    183\u001b[0m         max_depth\u001b[39m=\u001b[39mmax_depth,\n\u001b[0;32m    184\u001b[0m         feature_names\u001b[39m=\u001b[39mfeature_names,\n\u001b[1;32m   (...)\u001b[0m\n\u001b[0;32m    193\u001b[0m         fontsize\u001b[39m=\u001b[39mfontsize,\n\u001b[0;32m    194\u001b[0m     )\n\u001b[0;32m    195\u001b[0m     \u001b[39mreturn\u001b[39;00m exporter\u001b[39m.\u001b[39mexport(decision_tree, ax\u001b[39m=\u001b[39max)\n",
      "File \u001b[1;32mc:\\MedicalDecisionSupport\\venv\\lib\\site-packages\\sklearn\\utils\\validation.py:1345\u001b[0m, in \u001b[0;36mcheck_is_fitted\u001b[1;34m(estimator, attributes, msg, all_or_any)\u001b[0m\n\u001b[0;32m   1340\u001b[0m     fitted \u001b[39m=\u001b[39m [\n\u001b[0;32m   1341\u001b[0m         v \u001b[39mfor\u001b[39;00m v \u001b[39min\u001b[39;00m \u001b[39mvars\u001b[39m(estimator) \u001b[39mif\u001b[39;00m v\u001b[39m.\u001b[39mendswith(\u001b[39m\"\u001b[39m\u001b[39m_\u001b[39m\u001b[39m\"\u001b[39m) \u001b[39mand\u001b[39;00m \u001b[39mnot\u001b[39;00m v\u001b[39m.\u001b[39mstartswith(\u001b[39m\"\u001b[39m\u001b[39m__\u001b[39m\u001b[39m\"\u001b[39m)\n\u001b[0;32m   1342\u001b[0m     ]\n\u001b[0;32m   1344\u001b[0m \u001b[39mif\u001b[39;00m \u001b[39mnot\u001b[39;00m fitted:\n\u001b[1;32m-> 1345\u001b[0m     \u001b[39mraise\u001b[39;00m NotFittedError(msg \u001b[39m%\u001b[39m {\u001b[39m\"\u001b[39m\u001b[39mname\u001b[39m\u001b[39m\"\u001b[39m: \u001b[39mtype\u001b[39m(estimator)\u001b[39m.\u001b[39m\u001b[39m__name__\u001b[39m})\n",
      "\u001b[1;31mNotFittedError\u001b[0m: This DecisionTreeClassifier instance is not fitted yet. Call 'fit' with appropriate arguments before using this estimator."
     ]
    }
   ],
   "source": [
    "# treeModel."
   ]
  },
  {
   "cell_type": "code",
   "execution_count": null,
   "id": "6e920857",
   "metadata": {},
   "outputs": [
    {
     "data": {
      "text/html": [
       "<style>#sk-container-id-1 {color: black;background-color: white;}#sk-container-id-1 pre{padding: 0;}#sk-container-id-1 div.sk-toggleable {background-color: white;}#sk-container-id-1 label.sk-toggleable__label {cursor: pointer;display: block;width: 100%;margin-bottom: 0;padding: 0.3em;box-sizing: border-box;text-align: center;}#sk-container-id-1 label.sk-toggleable__label-arrow:before {content: \"▸\";float: left;margin-right: 0.25em;color: #696969;}#sk-container-id-1 label.sk-toggleable__label-arrow:hover:before {color: black;}#sk-container-id-1 div.sk-estimator:hover label.sk-toggleable__label-arrow:before {color: black;}#sk-container-id-1 div.sk-toggleable__content {max-height: 0;max-width: 0;overflow: hidden;text-align: left;background-color: #f0f8ff;}#sk-container-id-1 div.sk-toggleable__content pre {margin: 0.2em;color: black;border-radius: 0.25em;background-color: #f0f8ff;}#sk-container-id-1 input.sk-toggleable__control:checked~div.sk-toggleable__content {max-height: 200px;max-width: 100%;overflow: auto;}#sk-container-id-1 input.sk-toggleable__control:checked~label.sk-toggleable__label-arrow:before {content: \"▾\";}#sk-container-id-1 div.sk-estimator input.sk-toggleable__control:checked~label.sk-toggleable__label {background-color: #d4ebff;}#sk-container-id-1 div.sk-label input.sk-toggleable__control:checked~label.sk-toggleable__label {background-color: #d4ebff;}#sk-container-id-1 input.sk-hidden--visually {border: 0;clip: rect(1px 1px 1px 1px);clip: rect(1px, 1px, 1px, 1px);height: 1px;margin: -1px;overflow: hidden;padding: 0;position: absolute;width: 1px;}#sk-container-id-1 div.sk-estimator {font-family: monospace;background-color: #f0f8ff;border: 1px dotted black;border-radius: 0.25em;box-sizing: border-box;margin-bottom: 0.5em;}#sk-container-id-1 div.sk-estimator:hover {background-color: #d4ebff;}#sk-container-id-1 div.sk-parallel-item::after {content: \"\";width: 100%;border-bottom: 1px solid gray;flex-grow: 1;}#sk-container-id-1 div.sk-label:hover label.sk-toggleable__label {background-color: #d4ebff;}#sk-container-id-1 div.sk-serial::before {content: \"\";position: absolute;border-left: 1px solid gray;box-sizing: border-box;top: 0;bottom: 0;left: 50%;z-index: 0;}#sk-container-id-1 div.sk-serial {display: flex;flex-direction: column;align-items: center;background-color: white;padding-right: 0.2em;padding-left: 0.2em;position: relative;}#sk-container-id-1 div.sk-item {position: relative;z-index: 1;}#sk-container-id-1 div.sk-parallel {display: flex;align-items: stretch;justify-content: center;background-color: white;position: relative;}#sk-container-id-1 div.sk-item::before, #sk-container-id-1 div.sk-parallel-item::before {content: \"\";position: absolute;border-left: 1px solid gray;box-sizing: border-box;top: 0;bottom: 0;left: 50%;z-index: -1;}#sk-container-id-1 div.sk-parallel-item {display: flex;flex-direction: column;z-index: 1;position: relative;background-color: white;}#sk-container-id-1 div.sk-parallel-item:first-child::after {align-self: flex-end;width: 50%;}#sk-container-id-1 div.sk-parallel-item:last-child::after {align-self: flex-start;width: 50%;}#sk-container-id-1 div.sk-parallel-item:only-child::after {width: 0;}#sk-container-id-1 div.sk-dashed-wrapped {border: 1px dashed gray;margin: 0 0.4em 0.5em 0.4em;box-sizing: border-box;padding-bottom: 0.4em;background-color: white;}#sk-container-id-1 div.sk-label label {font-family: monospace;font-weight: bold;display: inline-block;line-height: 1.2em;}#sk-container-id-1 div.sk-label-container {text-align: center;}#sk-container-id-1 div.sk-container {/* jupyter's `normalize.less` sets `[hidden] { display: none; }` but bootstrap.min.css set `[hidden] { display: none !important; }` so we also need the `!important` here to be able to override the default hidden behavior on the sphinx rendered scikit-learn.org. See: https://github.com/scikit-learn/scikit-learn/issues/21755 */display: inline-block !important;position: relative;}#sk-container-id-1 div.sk-text-repr-fallback {display: none;}</style><div id=\"sk-container-id-1\" class=\"sk-top-container\"><div class=\"sk-text-repr-fallback\"><pre>DecisionTreeClassifier()</pre><b>In a Jupyter environment, please rerun this cell to show the HTML representation or trust the notebook. <br />On GitHub, the HTML representation is unable to render, please try loading this page with nbviewer.org.</b></div><div class=\"sk-container\" hidden><div class=\"sk-item\"><div class=\"sk-estimator sk-toggleable\"><input class=\"sk-toggleable__control sk-hidden--visually\" id=\"sk-estimator-id-1\" type=\"checkbox\" checked><label for=\"sk-estimator-id-1\" class=\"sk-toggleable__label sk-toggleable__label-arrow\">DecisionTreeClassifier</label><div class=\"sk-toggleable__content\"><pre>DecisionTreeClassifier()</pre></div></div></div></div></div>"
      ],
      "text/plain": [
       "DecisionTreeClassifier()"
      ]
     },
     "execution_count": 29,
     "metadata": {},
     "output_type": "execute_result"
    }
   ],
   "source": [
    "treeModel.fit(x_train, y_train)"
   ]
  },
  {
   "cell_type": "code",
   "execution_count": null,
   "id": "1a967a8b",
   "metadata": {},
   "outputs": [],
   "source": [
    "predTree = treeModel.predict(x_test)"
   ]
  },
  {
   "cell_type": "code",
   "execution_count": null,
   "id": "c4cb225e",
   "metadata": {},
   "outputs": [
    {
     "name": "stdout",
     "output_type": "stream",
     "text": [
      "[ 2  1  1  0  9  2  7  1  5  2  5  5  2  5  9  5  8  8  2  1  6  0 10  6\n",
      "  0  2 10  6  0  6  9  0 10  0  6  6  6  0  1  5  5  1  5  1  0  8  1  2\n",
      "  6  1 10  7  2  5  8  4  5  5  7  8  5  8 10  1  8  7 10  1  2  7 10  4\n",
      "  1  9  9  0  8  1  6  2  8  6  9  6  2  4  1  1 10 10  6  1  8  6  2 10\n",
      "  4 10  7  7  9  8  0  7  6  6  4  2  2  2  1  1  2  8  7 10  7  2  2  5\n",
      "  9 10  1  7  8  9  5  8 10 10 10  5  6  9 10  7  9  7  0  7  7  8  6  8\n",
      "  0  6  7  6  1  2  7  4 10  8  1 10  7 10  8  2  2  5  4  9  7  7  1  8\n",
      "  4  9  9  8  2  1 10  4  4  0  7  6  8  0 10  8  5  5  7  2  8  1  6  5\n",
      "  8  8  4  1  5  6 10  2]\n"
     ]
    }
   ],
   "source": [
    "print(predTree)"
   ]
  },
  {
   "cell_type": "code",
   "execution_count": null,
   "id": "f1e32ffc",
   "metadata": {},
   "outputs": [],
   "source": [
    "from sklearn.metrics import accuracy_score"
   ]
  },
  {
   "cell_type": "code",
   "execution_count": null,
   "id": "6df5ba42",
   "metadata": {},
   "outputs": [],
   "source": [
    "score = accuracy_score(y_test, predTree)"
   ]
  },
  {
   "cell_type": "code",
   "execution_count": null,
   "id": "29477813",
   "metadata": {},
   "outputs": [
    {
     "name": "stdout",
     "output_type": "stream",
     "text": [
      "0.1\n"
     ]
    }
   ],
   "source": [
    "print(score)"
   ]
  },
  {
   "cell_type": "code",
   "execution_count": null,
   "id": "0901364b",
   "metadata": {},
   "outputs": [],
   "source": [
    "from sklearn.ensemble import RandomForestClassifier"
   ]
  },
  {
   "cell_type": "code",
   "execution_count": null,
   "id": "d64ade7a",
   "metadata": {},
   "outputs": [
    {
     "data": {
      "text/html": [
       "<style>#sk-container-id-2 {color: black;background-color: white;}#sk-container-id-2 pre{padding: 0;}#sk-container-id-2 div.sk-toggleable {background-color: white;}#sk-container-id-2 label.sk-toggleable__label {cursor: pointer;display: block;width: 100%;margin-bottom: 0;padding: 0.3em;box-sizing: border-box;text-align: center;}#sk-container-id-2 label.sk-toggleable__label-arrow:before {content: \"▸\";float: left;margin-right: 0.25em;color: #696969;}#sk-container-id-2 label.sk-toggleable__label-arrow:hover:before {color: black;}#sk-container-id-2 div.sk-estimator:hover label.sk-toggleable__label-arrow:before {color: black;}#sk-container-id-2 div.sk-toggleable__content {max-height: 0;max-width: 0;overflow: hidden;text-align: left;background-color: #f0f8ff;}#sk-container-id-2 div.sk-toggleable__content pre {margin: 0.2em;color: black;border-radius: 0.25em;background-color: #f0f8ff;}#sk-container-id-2 input.sk-toggleable__control:checked~div.sk-toggleable__content {max-height: 200px;max-width: 100%;overflow: auto;}#sk-container-id-2 input.sk-toggleable__control:checked~label.sk-toggleable__label-arrow:before {content: \"▾\";}#sk-container-id-2 div.sk-estimator input.sk-toggleable__control:checked~label.sk-toggleable__label {background-color: #d4ebff;}#sk-container-id-2 div.sk-label input.sk-toggleable__control:checked~label.sk-toggleable__label {background-color: #d4ebff;}#sk-container-id-2 input.sk-hidden--visually {border: 0;clip: rect(1px 1px 1px 1px);clip: rect(1px, 1px, 1px, 1px);height: 1px;margin: -1px;overflow: hidden;padding: 0;position: absolute;width: 1px;}#sk-container-id-2 div.sk-estimator {font-family: monospace;background-color: #f0f8ff;border: 1px dotted black;border-radius: 0.25em;box-sizing: border-box;margin-bottom: 0.5em;}#sk-container-id-2 div.sk-estimator:hover {background-color: #d4ebff;}#sk-container-id-2 div.sk-parallel-item::after {content: \"\";width: 100%;border-bottom: 1px solid gray;flex-grow: 1;}#sk-container-id-2 div.sk-label:hover label.sk-toggleable__label {background-color: #d4ebff;}#sk-container-id-2 div.sk-serial::before {content: \"\";position: absolute;border-left: 1px solid gray;box-sizing: border-box;top: 0;bottom: 0;left: 50%;z-index: 0;}#sk-container-id-2 div.sk-serial {display: flex;flex-direction: column;align-items: center;background-color: white;padding-right: 0.2em;padding-left: 0.2em;position: relative;}#sk-container-id-2 div.sk-item {position: relative;z-index: 1;}#sk-container-id-2 div.sk-parallel {display: flex;align-items: stretch;justify-content: center;background-color: white;position: relative;}#sk-container-id-2 div.sk-item::before, #sk-container-id-2 div.sk-parallel-item::before {content: \"\";position: absolute;border-left: 1px solid gray;box-sizing: border-box;top: 0;bottom: 0;left: 50%;z-index: -1;}#sk-container-id-2 div.sk-parallel-item {display: flex;flex-direction: column;z-index: 1;position: relative;background-color: white;}#sk-container-id-2 div.sk-parallel-item:first-child::after {align-self: flex-end;width: 50%;}#sk-container-id-2 div.sk-parallel-item:last-child::after {align-self: flex-start;width: 50%;}#sk-container-id-2 div.sk-parallel-item:only-child::after {width: 0;}#sk-container-id-2 div.sk-dashed-wrapped {border: 1px dashed gray;margin: 0 0.4em 0.5em 0.4em;box-sizing: border-box;padding-bottom: 0.4em;background-color: white;}#sk-container-id-2 div.sk-label label {font-family: monospace;font-weight: bold;display: inline-block;line-height: 1.2em;}#sk-container-id-2 div.sk-label-container {text-align: center;}#sk-container-id-2 div.sk-container {/* jupyter's `normalize.less` sets `[hidden] { display: none; }` but bootstrap.min.css set `[hidden] { display: none !important; }` so we also need the `!important` here to be able to override the default hidden behavior on the sphinx rendered scikit-learn.org. See: https://github.com/scikit-learn/scikit-learn/issues/21755 */display: inline-block !important;position: relative;}#sk-container-id-2 div.sk-text-repr-fallback {display: none;}</style><div id=\"sk-container-id-2\" class=\"sk-top-container\"><div class=\"sk-text-repr-fallback\"><pre>RandomForestClassifier(n_estimators=200)</pre><b>In a Jupyter environment, please rerun this cell to show the HTML representation or trust the notebook. <br />On GitHub, the HTML representation is unable to render, please try loading this page with nbviewer.org.</b></div><div class=\"sk-container\" hidden><div class=\"sk-item\"><div class=\"sk-estimator sk-toggleable\"><input class=\"sk-toggleable__control sk-hidden--visually\" id=\"sk-estimator-id-2\" type=\"checkbox\" checked><label for=\"sk-estimator-id-2\" class=\"sk-toggleable__label sk-toggleable__label-arrow\">RandomForestClassifier</label><div class=\"sk-toggleable__content\"><pre>RandomForestClassifier(n_estimators=200)</pre></div></div></div></div></div>"
      ],
      "text/plain": [
       "RandomForestClassifier(n_estimators=200)"
      ]
     },
     "execution_count": 36,
     "metadata": {},
     "output_type": "execute_result"
    }
   ],
   "source": [
    "ranModel = RandomForestClassifier(n_estimators=200)\n",
    "ranModel"
   ]
  },
  {
   "cell_type": "code",
   "execution_count": null,
   "id": "5c1f0e9e",
   "metadata": {},
   "outputs": [
    {
     "data": {
      "text/html": [
       "<style>#sk-container-id-3 {color: black;background-color: white;}#sk-container-id-3 pre{padding: 0;}#sk-container-id-3 div.sk-toggleable {background-color: white;}#sk-container-id-3 label.sk-toggleable__label {cursor: pointer;display: block;width: 100%;margin-bottom: 0;padding: 0.3em;box-sizing: border-box;text-align: center;}#sk-container-id-3 label.sk-toggleable__label-arrow:before {content: \"▸\";float: left;margin-right: 0.25em;color: #696969;}#sk-container-id-3 label.sk-toggleable__label-arrow:hover:before {color: black;}#sk-container-id-3 div.sk-estimator:hover label.sk-toggleable__label-arrow:before {color: black;}#sk-container-id-3 div.sk-toggleable__content {max-height: 0;max-width: 0;overflow: hidden;text-align: left;background-color: #f0f8ff;}#sk-container-id-3 div.sk-toggleable__content pre {margin: 0.2em;color: black;border-radius: 0.25em;background-color: #f0f8ff;}#sk-container-id-3 input.sk-toggleable__control:checked~div.sk-toggleable__content {max-height: 200px;max-width: 100%;overflow: auto;}#sk-container-id-3 input.sk-toggleable__control:checked~label.sk-toggleable__label-arrow:before {content: \"▾\";}#sk-container-id-3 div.sk-estimator input.sk-toggleable__control:checked~label.sk-toggleable__label {background-color: #d4ebff;}#sk-container-id-3 div.sk-label input.sk-toggleable__control:checked~label.sk-toggleable__label {background-color: #d4ebff;}#sk-container-id-3 input.sk-hidden--visually {border: 0;clip: rect(1px 1px 1px 1px);clip: rect(1px, 1px, 1px, 1px);height: 1px;margin: -1px;overflow: hidden;padding: 0;position: absolute;width: 1px;}#sk-container-id-3 div.sk-estimator {font-family: monospace;background-color: #f0f8ff;border: 1px dotted black;border-radius: 0.25em;box-sizing: border-box;margin-bottom: 0.5em;}#sk-container-id-3 div.sk-estimator:hover {background-color: #d4ebff;}#sk-container-id-3 div.sk-parallel-item::after {content: \"\";width: 100%;border-bottom: 1px solid gray;flex-grow: 1;}#sk-container-id-3 div.sk-label:hover label.sk-toggleable__label {background-color: #d4ebff;}#sk-container-id-3 div.sk-serial::before {content: \"\";position: absolute;border-left: 1px solid gray;box-sizing: border-box;top: 0;bottom: 0;left: 50%;z-index: 0;}#sk-container-id-3 div.sk-serial {display: flex;flex-direction: column;align-items: center;background-color: white;padding-right: 0.2em;padding-left: 0.2em;position: relative;}#sk-container-id-3 div.sk-item {position: relative;z-index: 1;}#sk-container-id-3 div.sk-parallel {display: flex;align-items: stretch;justify-content: center;background-color: white;position: relative;}#sk-container-id-3 div.sk-item::before, #sk-container-id-3 div.sk-parallel-item::before {content: \"\";position: absolute;border-left: 1px solid gray;box-sizing: border-box;top: 0;bottom: 0;left: 50%;z-index: -1;}#sk-container-id-3 div.sk-parallel-item {display: flex;flex-direction: column;z-index: 1;position: relative;background-color: white;}#sk-container-id-3 div.sk-parallel-item:first-child::after {align-self: flex-end;width: 50%;}#sk-container-id-3 div.sk-parallel-item:last-child::after {align-self: flex-start;width: 50%;}#sk-container-id-3 div.sk-parallel-item:only-child::after {width: 0;}#sk-container-id-3 div.sk-dashed-wrapped {border: 1px dashed gray;margin: 0 0.4em 0.5em 0.4em;box-sizing: border-box;padding-bottom: 0.4em;background-color: white;}#sk-container-id-3 div.sk-label label {font-family: monospace;font-weight: bold;display: inline-block;line-height: 1.2em;}#sk-container-id-3 div.sk-label-container {text-align: center;}#sk-container-id-3 div.sk-container {/* jupyter's `normalize.less` sets `[hidden] { display: none; }` but bootstrap.min.css set `[hidden] { display: none !important; }` so we also need the `!important` here to be able to override the default hidden behavior on the sphinx rendered scikit-learn.org. See: https://github.com/scikit-learn/scikit-learn/issues/21755 */display: inline-block !important;position: relative;}#sk-container-id-3 div.sk-text-repr-fallback {display: none;}</style><div id=\"sk-container-id-3\" class=\"sk-top-container\"><div class=\"sk-text-repr-fallback\"><pre>RandomForestClassifier(n_estimators=200)</pre><b>In a Jupyter environment, please rerun this cell to show the HTML representation or trust the notebook. <br />On GitHub, the HTML representation is unable to render, please try loading this page with nbviewer.org.</b></div><div class=\"sk-container\" hidden><div class=\"sk-item\"><div class=\"sk-estimator sk-toggleable\"><input class=\"sk-toggleable__control sk-hidden--visually\" id=\"sk-estimator-id-3\" type=\"checkbox\" checked><label for=\"sk-estimator-id-3\" class=\"sk-toggleable__label sk-toggleable__label-arrow\">RandomForestClassifier</label><div class=\"sk-toggleable__content\"><pre>RandomForestClassifier(n_estimators=200)</pre></div></div></div></div></div>"
      ],
      "text/plain": [
       "RandomForestClassifier(n_estimators=200)"
      ]
     },
     "execution_count": 37,
     "metadata": {},
     "output_type": "execute_result"
    }
   ],
   "source": [
    "ranModel.fit(x_test, y_test)"
   ]
  },
  {
   "cell_type": "code",
   "execution_count": null,
   "id": "956ec24a",
   "metadata": {},
   "outputs": [],
   "source": [
    "ranForestPred = ranModel.predict(x_test)"
   ]
  },
  {
   "cell_type": "code",
   "execution_count": null,
   "id": "8d7f792d",
   "metadata": {},
   "outputs": [
    {
     "data": {
      "text/plain": [
       "array([ 8,  9,  2,  9,  2, 10,  2,  1,  9, 10,  7,  2,  9,  6,  0,  4,  5,\n",
       "        7,  1,  7,  2,  2,  9,  2,  4, 10,  9,  8, 10,  5,  1,  9,  5,  5,\n",
       "        5,  5,  9,  0,  5,  5,  2,  0,  1,  0,  5,  8,  8,  0,  4,  6,  4,\n",
       "        5, 10,  6,  9,  6,  6,  8,  7,  6,  8,  9,  6,  5,  2,  2,  5,  7,\n",
       "        9,  8, 10,  1,  0,  5,  8,  6,  0,  9,  0,  9,  6,  2,  7,  8,  0,\n",
       "        2,  4,  4,  4,  8,  5, 10,  8,  7,  5,  0, 10,  4,  9,  5,  6,  4,\n",
       "        0,  7,  9,  5,  8,  9,  7,  5, 10,  6,  1, 10,  9,  6,  0, 10,  1,\n",
       "        5,  1,  0,  4,  5,  8,  4, 10,  7,  6,  2,  0,  9, 10,  2,  8,  1,\n",
       "        7,  8,  9, 10,  4,  8,  9,  6,  0, 10,  2,  7,  6,  2,  5,  1,  9,\n",
       "        0,  7,  7,  6,  0,  5,  9, 10,  6,  6,  9,  8,  4,  5,  8,  8,  6,\n",
       "        2,  0,  5,  4,  9,  0,  7,  7,  0,  8,  7,  1,  4,  2,  0,  5,  1,\n",
       "        4,  8,  4, 10,  7,  4,  5,  5,  1,  5,  1,  9,  8], dtype=int64)"
      ]
     },
     "execution_count": 39,
     "metadata": {},
     "output_type": "execute_result"
    }
   ],
   "source": [
    "ranForestPred"
   ]
  },
  {
   "cell_type": "code",
   "execution_count": null,
   "id": "755568bd",
   "metadata": {},
   "outputs": [
    {
     "data": {
      "text/plain": [
       "1.0"
      ]
     },
     "execution_count": 40,
     "metadata": {},
     "output_type": "execute_result"
    }
   ],
   "source": [
    "ranModel.score(x_test, y_test)"
   ]
  },
  {
   "cell_type": "code",
   "execution_count": null,
   "id": "c5ad2dfd",
   "metadata": {},
   "outputs": [
    {
     "data": {
      "text/html": [
       "<style>#sk-container-id-4 {color: black;background-color: white;}#sk-container-id-4 pre{padding: 0;}#sk-container-id-4 div.sk-toggleable {background-color: white;}#sk-container-id-4 label.sk-toggleable__label {cursor: pointer;display: block;width: 100%;margin-bottom: 0;padding: 0.3em;box-sizing: border-box;text-align: center;}#sk-container-id-4 label.sk-toggleable__label-arrow:before {content: \"▸\";float: left;margin-right: 0.25em;color: #696969;}#sk-container-id-4 label.sk-toggleable__label-arrow:hover:before {color: black;}#sk-container-id-4 div.sk-estimator:hover label.sk-toggleable__label-arrow:before {color: black;}#sk-container-id-4 div.sk-toggleable__content {max-height: 0;max-width: 0;overflow: hidden;text-align: left;background-color: #f0f8ff;}#sk-container-id-4 div.sk-toggleable__content pre {margin: 0.2em;color: black;border-radius: 0.25em;background-color: #f0f8ff;}#sk-container-id-4 input.sk-toggleable__control:checked~div.sk-toggleable__content {max-height: 200px;max-width: 100%;overflow: auto;}#sk-container-id-4 input.sk-toggleable__control:checked~label.sk-toggleable__label-arrow:before {content: \"▾\";}#sk-container-id-4 div.sk-estimator input.sk-toggleable__control:checked~label.sk-toggleable__label {background-color: #d4ebff;}#sk-container-id-4 div.sk-label input.sk-toggleable__control:checked~label.sk-toggleable__label {background-color: #d4ebff;}#sk-container-id-4 input.sk-hidden--visually {border: 0;clip: rect(1px 1px 1px 1px);clip: rect(1px, 1px, 1px, 1px);height: 1px;margin: -1px;overflow: hidden;padding: 0;position: absolute;width: 1px;}#sk-container-id-4 div.sk-estimator {font-family: monospace;background-color: #f0f8ff;border: 1px dotted black;border-radius: 0.25em;box-sizing: border-box;margin-bottom: 0.5em;}#sk-container-id-4 div.sk-estimator:hover {background-color: #d4ebff;}#sk-container-id-4 div.sk-parallel-item::after {content: \"\";width: 100%;border-bottom: 1px solid gray;flex-grow: 1;}#sk-container-id-4 div.sk-label:hover label.sk-toggleable__label {background-color: #d4ebff;}#sk-container-id-4 div.sk-serial::before {content: \"\";position: absolute;border-left: 1px solid gray;box-sizing: border-box;top: 0;bottom: 0;left: 50%;z-index: 0;}#sk-container-id-4 div.sk-serial {display: flex;flex-direction: column;align-items: center;background-color: white;padding-right: 0.2em;padding-left: 0.2em;position: relative;}#sk-container-id-4 div.sk-item {position: relative;z-index: 1;}#sk-container-id-4 div.sk-parallel {display: flex;align-items: stretch;justify-content: center;background-color: white;position: relative;}#sk-container-id-4 div.sk-item::before, #sk-container-id-4 div.sk-parallel-item::before {content: \"\";position: absolute;border-left: 1px solid gray;box-sizing: border-box;top: 0;bottom: 0;left: 50%;z-index: -1;}#sk-container-id-4 div.sk-parallel-item {display: flex;flex-direction: column;z-index: 1;position: relative;background-color: white;}#sk-container-id-4 div.sk-parallel-item:first-child::after {align-self: flex-end;width: 50%;}#sk-container-id-4 div.sk-parallel-item:last-child::after {align-self: flex-start;width: 50%;}#sk-container-id-4 div.sk-parallel-item:only-child::after {width: 0;}#sk-container-id-4 div.sk-dashed-wrapped {border: 1px dashed gray;margin: 0 0.4em 0.5em 0.4em;box-sizing: border-box;padding-bottom: 0.4em;background-color: white;}#sk-container-id-4 div.sk-label label {font-family: monospace;font-weight: bold;display: inline-block;line-height: 1.2em;}#sk-container-id-4 div.sk-label-container {text-align: center;}#sk-container-id-4 div.sk-container {/* jupyter's `normalize.less` sets `[hidden] { display: none; }` but bootstrap.min.css set `[hidden] { display: none !important; }` so we also need the `!important` here to be able to override the default hidden behavior on the sphinx rendered scikit-learn.org. See: https://github.com/scikit-learn/scikit-learn/issues/21755 */display: inline-block !important;position: relative;}#sk-container-id-4 div.sk-text-repr-fallback {display: none;}</style><div id=\"sk-container-id-4\" class=\"sk-top-container\"><div class=\"sk-text-repr-fallback\"><pre>RandomForestClassifier(n_estimators=200)</pre><b>In a Jupyter environment, please rerun this cell to show the HTML representation or trust the notebook. <br />On GitHub, the HTML representation is unable to render, please try loading this page with nbviewer.org.</b></div><div class=\"sk-container\" hidden><div class=\"sk-item\"><div class=\"sk-estimator sk-toggleable\"><input class=\"sk-toggleable__control sk-hidden--visually\" id=\"sk-estimator-id-4\" type=\"checkbox\" checked><label for=\"sk-estimator-id-4\" class=\"sk-toggleable__label sk-toggleable__label-arrow\">RandomForestClassifier</label><div class=\"sk-toggleable__content\"><pre>RandomForestClassifier(n_estimators=200)</pre></div></div></div></div></div>"
      ],
      "text/plain": [
       "RandomForestClassifier(n_estimators=200)"
      ]
     },
     "execution_count": 41,
     "metadata": {},
     "output_type": "execute_result"
    }
   ],
   "source": [
    "ranModel"
   ]
  },
  {
   "cell_type": "code",
   "execution_count": null,
   "id": "99931c54",
   "metadata": {},
   "outputs": [
    {
     "data": {
      "text/plain": [
       "1.0"
      ]
     },
     "execution_count": 42,
     "metadata": {},
     "output_type": "execute_result"
    }
   ],
   "source": [
    "ran_score = accuracy_score(y_test, ranForestPred)\n",
    "ran_score"
   ]
  },
  {
   "cell_type": "code",
   "execution_count": null,
   "id": "0fdb583a",
   "metadata": {},
   "outputs": [],
   "source": [
    "pd.to_pickle(ranModel, 'Model_MDS.pickle')"
   ]
  },
  {
   "cell_type": "code",
   "execution_count": null,
   "id": "4b36d9a0",
   "metadata": {},
   "outputs": [],
   "source": [
    "model = pd.read_pickle('Model_MDS.pickle')"
   ]
  },
  {
   "cell_type": "code",
   "execution_count": null,
   "id": "1d361017",
   "metadata": {},
   "outputs": [
    {
     "name": "stderr",
     "output_type": "stream",
     "text": [
      "d:\\MDS\\MedicalDecisionSupport\\venv\\lib\\site-packages\\sklearn\\base.py:450: UserWarning: X does not have valid feature names, but RandomForestClassifier was fitted with feature names\n",
      "  warnings.warn(\n"
     ]
    },
    {
     "data": {
      "text/plain": [
       "array([0], dtype=int64)"
      ]
     },
     "execution_count": 45,
     "metadata": {},
     "output_type": "execute_result"
    }
   ],
   "source": [
    "#result = model.predict([[88, 3, 2, 2, 1, 2, 2, 2, 2, 12, 2, 7], [60, 0, 3, 2, 4, 2, 0, 2, 2, 11, 2, 4], [81, 4, 4, 4, 2, 4, 1, 2, 2, 19, 2, 7], [80, 3, 2, 0, 3, 1, 4, 2, 3, 13, 3, 6]])\n",
    "result = model.predict([[88, 3, 2, 2, 1, 2, 2, 2, 2, 12, 2, 7]])\n",
    "result"
   ]
  },
  {
   "cell_type": "code",
   "execution_count": null,
   "id": "565a40ec",
   "metadata": {},
   "outputs": [
    {
     "data": {
      "text/plain": [
       "array([0], dtype=int64)"
      ]
     },
     "execution_count": 46,
     "metadata": {},
     "output_type": "execute_result"
    }
   ],
   "source": [
    "result"
   ]
  },
  {
   "cell_type": "code",
   "execution_count": null,
   "id": "83a0561b",
   "metadata": {},
   "outputs": [],
   "source": [
    "#import pickle as plk"
   ]
  },
  {
   "cell_type": "code",
   "execution_count": null,
   "id": "e70d849d",
   "metadata": {},
   "outputs": [],
   "source": [
    "#with open('covid_model', 'wb') as file:\n",
    "    #covid_model = plk.dump(ranModel, file)"
   ]
  },
  {
   "cell_type": "code",
   "execution_count": null,
   "id": "870eb33b",
   "metadata": {},
   "outputs": [],
   "source": [
    "#from sklearn.linear_model import LogisticRegression\n",
    "#from sklearn.linear_model import LogisticRegression\n",
    "#logModel = LogisticRegression(max_iter=100)\n",
    "#logModel.fit(x_test, y_test)"
   ]
  },
  {
   "cell_type": "code",
   "execution_count": null,
   "id": "cdc9f340",
   "metadata": {},
   "outputs": [],
   "source": []
  }
 ],
 "metadata": {
  "kernelspec": {
<<<<<<< HEAD
   "display_name": "Python 3.10.2 ('venv': venv)",
=======
   "display_name": "Python 3.10.5 ('venv': venv)",
>>>>>>> 10a2c39d69d0646207c46952f77bfd263f5a28ed
   "language": "python",
   "name": "python3"
  },
  "language_info": {
   "codemirror_mode": {
    "name": "ipython",
    "version": 3
   },
   "file_extension": ".py",
   "mimetype": "text/x-python",
   "name": "python",
   "nbconvert_exporter": "python",
   "pygments_lexer": "ipython3",
   "version": "3.10.5"
  },
  "vscode": {
   "interpreter": {
<<<<<<< HEAD
    "hash": "2419b20d73514d9ae8c87ae7b87a1a1fd713a7cc918e16db11dd893be82236af"
=======
    "hash": "08c7eb1bd24e64a6ee668220a051b58b501e0a759302ec8312f0df9daf2062e2"
>>>>>>> 10a2c39d69d0646207c46952f77bfd263f5a28ed
   }
  }
 },
 "nbformat": 4,
 "nbformat_minor": 5
}
